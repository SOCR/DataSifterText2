{
 "cells": [
  {
   "cell_type": "code",
   "execution_count": 1,
   "id": "dd8cde0e",
   "metadata": {},
   "outputs": [],
   "source": [
    "from sklearn.datasets import fetch_20newsgroups\n",
    "from word2vec import MySentences, W2V\n",
    "import multiprocessing\n",
    "from time import time\n",
    "import logging  # Setting up the loggings to monitor gensim\n",
    "# logging.basicConfig(format=\"%(levelname)s - %(asctime)s: %(message)s\", datefmt= '%H:%M:%S', level=logging.INFO)"
   ]
  },
  {
   "cell_type": "code",
   "execution_count": 2,
   "id": "be425c3a",
   "metadata": {},
   "outputs": [],
   "source": [
    "cores = multiprocessing.cpu_count()\n",
    "newsgroup = fetch_20newsgroups(remove=('headers', 'footers', 'quotes'))\n",
    "sentences = MySentences(newsgroup.data)"
   ]
  },
  {
   "cell_type": "code",
   "execution_count": 3,
   "id": "807810eb",
   "metadata": {},
   "outputs": [],
   "source": [
    "w2v_model = W2V(sentences, cores)"
   ]
  },
  {
   "cell_type": "code",
   "execution_count": null,
   "id": "8f11a733",
   "metadata": {},
   "outputs": [],
   "source": [
    "w2v_model.train()"
   ]
  },
  {
   "cell_type": "code",
   "execution_count": null,
   "id": "2374849a",
   "metadata": {},
   "outputs": [],
   "source": [
    "w2v_model.save(\"newsmodel\")"
   ]
  },
  {
   "cell_type": "code",
   "execution_count": 4,
   "id": "671fbfdb",
   "metadata": {},
   "outputs": [],
   "source": [
    "w2v_model.load(\"newsmodel\")"
   ]
  },
  {
   "cell_type": "code",
   "execution_count": 23,
   "id": "937cb875",
   "metadata": {},
   "outputs": [
    {
     "data": {
      "text/plain": [
       "['hands,', 'Banks', 'neck,']"
      ]
     },
     "execution_count": 23,
     "metadata": {},
     "output_type": "execute_result"
    }
   ],
   "source": [
    "w2v_model.get_similar_word(keywords=[\"heart\", \"blood\", \"wrist\"], start_radius=0, end_radius=33)"
   ]
  },
  {
   "cell_type": "code",
   "execution_count": null,
   "id": "461d5957",
   "metadata": {},
   "outputs": [],
   "source": [
    "w2v_model.find_word_idx([\"wife\"])"
   ]
  },
  {
   "cell_type": "code",
   "execution_count": 16,
   "id": "95e32b77",
   "metadata": {},
   "outputs": [
    {
     "name": "stdout",
     "output_type": "stream",
     "text": [
      "/ hpcc01:rec.motorcycles / Stafford@Vax2.Winona.MSUS.Edu (John Stafford) / 11:06 am  Apr  1, 1993 /\n",
      " \n",
      "\n",
      "  It depreciates much faster, too.\n",
      "   \n",
      "====================================================\n",
      "John Stafford   Minnesota State University @ Winona\n",
      "                    All standard disclaimers apply.\n",
      "----------\n",
      "The '84 GL1200A hit the traps at 13.34 according to Cycle magazine. Yeah,\n",
      "they depreciate faster than Harleys for the first couple of years then\n",
      "they bottom out. Got my '86 GL1200I w/ 2275 miles on the odometer for\n",
      "just under $5K in May of 1990 and would ask for $4500 now with almost\n",
      "16K miles onnit....that's about 50% of what a new GL1500I would cost.\n",
      "\n",
      "Think the '86 GL1200I originally sold for $6500 brand new, not sure. \n",
      "If that's the case then it depreciated 30.77% over 7 years or a mere\n",
      "$2000. Big Fat Hairy Deal! Based on what I know, Harleys tend to\n",
      "depreciate your monies far more than the initial depreciation of\n",
      "the bike itself when it comes to parts and service. All this about\n",
      "Harleys holding their value better doesn't always wash away the\n",
      "knocks on them...such as being much slower. ;-) \n",
      "\n",
      "According to Peter Egan in the just released Cycle World his FLHS is a\n",
      "real dog when he pillions his 120lb wife. All that money for a dog that\n",
      "doesn't defecate much. =:-]  \n",
      "--------------------------------------------------------------------------\n",
      "Graeme Harrison, Hewlett-Packard Co., Communications Components Division,\n",
      "350 W Trimble Rd, San Jose, CA 95131 (gharriso@hpcc01.corp.hp.com) DoD#649 \n"
     ]
    }
   ],
   "source": [
    "print(w2v_model.sentences[102])"
   ]
  },
  {
   "cell_type": "code",
   "execution_count": 17,
   "id": "6baf2b2b",
   "metadata": {},
   "outputs": [
    {
     "name": "stdout",
     "output_type": "stream",
     "text": [
      "/ hpcc01:rec.motorcycles / Stafford@Vax2.Winona.MSUS.Edu (John Stafford) / 11:06 am  Apr  1, 1993 /\n",
      " \n",
      "\n",
      "  It depreciates much faster, too.\n",
      "   \n",
      "====================================================\n",
      "John Stafford   Hockey State University @ Winona\n",
      "                    All standard disclaimers apply.\n",
      "----------\n",
      "The '84 GL1200A hit the traps at 13.34 according to Cycle magazine. Yeah,\n",
      "they depreciate faster than Harleys for the first couple of years then\n",
      "they bottom out. Got my '86 GL1200I w/ 2275 miles on the odometer for\n",
      "just under $5K in May of 1990 and would ask for $4500 now with almost\n",
      "16K miles onnit....that's about 50% of what a new GL1500I would cost.\n",
      "\n",
      "Think the '86 GL1200I originally sold for $6500 brand new, not sure. \n",
      "If that's the case then it depreciated 30.77% over 7 years or a mere\n",
      "$2000. Big Fat Hairy Deal! Based on what I know, Harleys tend to\n",
      "depreciate your monies far more than the initial depreciation of\n",
      "the bike itself when it comes to parts and service. All this about\n",
      "Harleys holding their value better doesn't always wash away the\n",
      "knocks on them...such as being much slower. ;-) \n",
      "\n",
      "According to Peter Egan in the just released Cycle World his FLHS is a\n",
      "real dog when he pillions his 120lb herself. All that money for a dog that\n",
      "doesn't defecate much. =:-]  \n",
      "--------------------------------------------------------------------------\n",
      "Graeme Harrison, Hewlett-Packard Co., Communications Components Division,\n",
      "350 W Trimble Rd, San Jose, CA 95131 (gharriso@hpcc01.corp.hp.com) DoD#649 \n"
     ]
    }
   ],
   "source": [
    "print(w2v_model.obfuscate(w2v_model.sentences[102], [\"wife\", \"Minnesota\"]))"
   ]
  },
  {
   "cell_type": "code",
   "execution_count": null,
   "id": "c924eb50",
   "metadata": {},
   "outputs": [],
   "source": []
  }
 ],
 "metadata": {
  "kernelspec": {
   "display_name": "Python 3 (ipykernel)",
   "language": "python",
   "name": "python3"
  },
  "language_info": {
   "codemirror_mode": {
    "name": "ipython",
    "version": 3
   },
   "file_extension": ".py",
   "mimetype": "text/x-python",
   "name": "python",
   "nbconvert_exporter": "python",
   "pygments_lexer": "ipython3",
   "version": "3.9.7"
  }
 },
 "nbformat": 4,
 "nbformat_minor": 5
}
