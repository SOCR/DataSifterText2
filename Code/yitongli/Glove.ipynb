{
 "cells": [
  {
   "cell_type": "code",
   "execution_count": 1,
   "id": "2cc61ac3",
   "metadata": {},
   "outputs": [],
   "source": [
    "import logging\n",
    "import re\n",
    "from collections import Counter\n",
    "\n",
    "import numpy as np\n",
    "import torch\n",
    "from sklearn.datasets import fetch_20newsgroups\n",
    "from torch.autograd import Variable\n",
    "from torch.utils.data import Dataset\n",
    "from tqdm import tqdm\n",
    "\n",
    "# Hyperparameters\n",
    "N_EMBEDDING = 300\n",
    "BASE_STD = 0.01\n",
    "BATCH_SIZE = 512\n",
    "NUM_EPOCH = 10\n",
    "MIN_WORD_OCCURENCES = 10\n",
    "X_MAX = 100\n",
    "ALPHA = 0.75\n",
    "BETA = 0.0001\n",
    "RIGHT_WINDOW = 4\n",
    "\n",
    "USE_CUDA = True\n",
    "\n",
    "FORMAT = '%(asctime)-15s %(message)s'\n",
    "logging.basicConfig(level=logging.DEBUG, format=FORMAT)"
   ]
  },
  {
   "cell_type": "code",
   "execution_count": 2,
   "id": "23c8f7ab",
   "metadata": {
    "scrolled": true
   },
   "outputs": [
    {
     "name": "stderr",
     "output_type": "stream",
     "text": [
      "2022-02-15 17:20:53,023 Fetching data\n"
     ]
    }
   ],
   "source": [
    "logging.info(\"Fetching data\")\n",
    "newsgroup = fetch_20newsgroups(remove=('headers', 'footers', 'quotes'))"
   ]
  },
  {
   "cell_type": "code",
   "execution_count": 3,
   "id": "e493bcbb",
   "metadata": {
    "scrolled": true
   },
   "outputs": [
    {
     "name": "stdout",
     "output_type": "stream",
     "text": [
      "A fair number of brave souls who upgraded their SI clock oscillator have\n",
      "shared their experiences for this poll. Please send a brief message detailing\n",
      "your experiences with the procedure. Top speed attained, CPU rated speed,\n",
      "add on cards and adapters, heat sinks, hour of usage per day, floppy disk\n",
      "functionality with 800 and 1.4 m floppies are especially requested.\n",
      "\n",
      "I will be summarizing in the next two days, so please add to the network\n",
      "knowledge base if you have done the clock upgrade and haven't answered this\n",
      "poll. Thanks.\n"
     ]
    }
   ],
   "source": [
    "print(newsgroup.data[1])"
   ]
  },
  {
   "cell_type": "code",
   "execution_count": 4,
   "id": "b902bcec",
   "metadata": {},
   "outputs": [],
   "source": [
    "from fast_glove import GloveDataset, train_model"
   ]
  },
  {
   "cell_type": "code",
   "execution_count": 5,
   "id": "52c7c428",
   "metadata": {},
   "outputs": [
    {
     "name": "stderr",
     "output_type": "stream",
     "text": [
      "2022-02-15 17:20:59,617 Build dataset\n",
      "2022-02-15 17:21:00,672 #Words: 2141\n",
      "2022-02-15 17:21:00,673 #Ngrams: 168558\n",
      "2022-02-15 17:21:00,674 Start training\n",
      "  0%|          | 0/10 [00:00<?, ?it/s]2022-02-15 17:21:00,678 Start epoch 0\n",
      "\n",
      "  0%|          | 0/329 [00:00<?, ?it/s]\u001b[A\n",
      "100%|██████████| 329/329 [00:02<00:00, 111.30it/s]\n",
      "2022-02-15 17:21:03,641 Average loss for epoch 1: 61.20724\n",
      " 10%|█         | 1/10 [00:02<00:26,  2.96s/it]2022-02-15 17:21:03,642 Start epoch 1\n",
      "\n",
      "100%|██████████| 329/329 [00:00<00:00, 411.25it/s]\n",
      "2022-02-15 17:21:04,448 Average loss for epoch 2: 21.61349\n",
      " 20%|██        | 2/10 [00:03<00:13,  1.70s/it]2022-02-15 17:21:04,449 Start epoch 2\n",
      "\n",
      "100%|██████████| 329/329 [00:00<00:00, 420.72it/s]\n",
      "2022-02-15 17:21:05,236 Average loss for epoch 3: 13.78170\n",
      " 30%|███       | 3/10 [00:04<00:08,  1.28s/it]2022-02-15 17:21:05,238 Start epoch 3\n",
      "\n",
      "100%|██████████| 329/329 [00:00<00:00, 430.63it/s]\n",
      "2022-02-15 17:21:06,008 Average loss for epoch 4: 11.91761\n",
      " 40%|████      | 4/10 [00:05<00:06,  1.08s/it]2022-02-15 17:21:06,010 Start epoch 4\n",
      "\n",
      "100%|██████████| 329/329 [00:00<00:00, 407.18it/s]\n",
      "2022-02-15 17:21:06,823 Average loss for epoch 5: 10.36968\n",
      " 50%|█████     | 5/10 [00:06<00:04,  1.02it/s]2022-02-15 17:21:06,824 Start epoch 5\n",
      "\n",
      "100%|██████████| 329/329 [00:00<00:00, 399.27it/s]\n",
      "2022-02-15 17:21:07,656 Average loss for epoch 6: 8.76733\n",
      " 60%|██████    | 6/10 [00:06<00:03,  1.07it/s]2022-02-15 17:21:07,658 Start epoch 6\n",
      "\n",
      "100%|██████████| 329/329 [00:00<00:00, 413.84it/s]\n",
      "2022-02-15 17:21:08,459 Average loss for epoch 7: 7.30267\n",
      " 70%|███████   | 7/10 [00:07<00:02,  1.12it/s]2022-02-15 17:21:08,460 Start epoch 7\n",
      "\n",
      "100%|██████████| 329/329 [00:00<00:00, 409.72it/s]\n",
      "2022-02-15 17:21:09,269 Average loss for epoch 8: 6.08662\n",
      " 80%|████████  | 8/10 [00:08<00:01,  1.16it/s]2022-02-15 17:21:09,270 Start epoch 8\n",
      "\n",
      "100%|██████████| 329/329 [00:00<00:00, 410.23it/s]\n",
      "2022-02-15 17:21:10,078 Average loss for epoch 9: 5.10514\n",
      " 90%|█████████ | 9/10 [00:09<00:00,  1.18it/s]2022-02-15 17:21:10,079 Start epoch 9\n",
      "\n",
      "100%|██████████| 329/329 [00:00<00:00, 420.72it/s]\n",
      "2022-02-15 17:21:10,869 Average loss for epoch 10: 4.33474\n",
      "100%|██████████| 10/10 [00:10<00:00,  1.02s/it]\n"
     ]
    }
   ],
   "source": [
    "logging.info(\"Build dataset\")\n",
    "glove_data = GloveDataset(newsgroup.data[:1000], right_window=RIGHT_WINDOW)\n",
    "logging.info(\"#Words: %s\", glove_data.indexer.n_words)\n",
    "logging.info(\"#Ngrams: %s\", len(glove_data))\n",
    "logging.info(\"Start training\")\n",
    "train_model(glove_data)"
   ]
  },
  {
   "cell_type": "code",
   "execution_count": null,
   "id": "9b5dcffb",
   "metadata": {},
   "outputs": [],
   "source": []
  }
 ],
 "metadata": {
  "kernelspec": {
   "display_name": "Python 3 (ipykernel)",
   "language": "python",
   "name": "python3"
  },
  "language_info": {
   "codemirror_mode": {
    "name": "ipython",
    "version": 3
   },
   "file_extension": ".py",
   "mimetype": "text/x-python",
   "name": "python",
   "nbconvert_exporter": "python",
   "pygments_lexer": "ipython3",
   "version": "3.9.7"
  }
 },
 "nbformat": 4,
 "nbformat_minor": 5
}
