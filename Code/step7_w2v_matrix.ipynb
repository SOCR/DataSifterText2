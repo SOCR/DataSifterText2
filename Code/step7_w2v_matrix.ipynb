{
  "cells": [
    {
      "cell_type": "code",
      "execution_count": 1,
      "id": "dd8cde0e",
      "metadata": {
        "id": "dd8cde0e",
        "colab": {
          "base_uri": "https://localhost:8080/"
        },
        "outputId": "543e92fb-7271-4776-8f9e-73a221e50f75"
      },
      "outputs": [
        {
          "output_type": "stream",
          "name": "stdout",
          "text": [
            "Drive already mounted at /content/drive; to attempt to forcibly remount, call drive.mount(\"/content/drive\", force_remount=True).\n"
          ]
        }
      ],
      "source": [
        "from google.colab import drive\n",
        "drive.mount('/content/drive')\n",
        "from sklearn.datasets import fetch_20newsgroups\n",
        "# !cp drive/MyDrive/word2vec.py\n",
        "import sys\n",
        "sys.path.append('/content/drive/MyDrive/DataSifter/')\n",
        "from word2vec import MySentences, W2V\n",
        "import multiprocessing\n",
        "from time import time\n",
        "import logging  \n",
        "from gensim.models import Word2Vec\n",
        "import random\n",
        "\n",
        "# Setting up the loggings to monitor gensim\n",
        "# logging.basicConfig(format=\"%(levelname)s - %(asctime)s: %(message)s\", datefmt= '%H:%M:%S', level=logging.INFO)"
      ]
    },
    {
      "cell_type": "markdown",
      "source": [
        "# New Section"
      ],
      "metadata": {
        "id": "ke--nflYSFLf"
      },
      "id": "ke--nflYSFLf"
    },
    {
      "cell_type": "code",
      "execution_count": 2,
      "id": "be425c3a",
      "metadata": {
        "id": "be425c3a",
        "colab": {
          "base_uri": "https://localhost:8080/"
        },
        "outputId": "35d0e4f1-0890-49e0-b7eb-2ac019afa30d"
      },
      "outputs": [
        {
          "output_type": "execute_result",
          "data": {
            "text/plain": [
              "0     [**2153-9-4**] 9:16 AM\\n CHEST (PORTABLE AP)  ...\n",
              "1     [**2157-10-21**] 3:31 PM\\n CT HEAD W/O CONTRAS...\n",
              "2     4:30p-7a\\nneuro: pt remained sedated on fent/v...\n",
              "3     [**2131-5-24**] 9:45 AM\\n PICC LINE PLACMENT S...\n",
              "4     Respiratory Care\\nPt intubated on ventilatory ...\n",
              "5     [**2131-5-24**] 11:57 AM\\n CHEST (PA & LAT)   ...\n",
              "6     [**2134-5-13**] 11:07 AM\\n CHEST (PORTABLE AP)...\n",
              "7     [**2134-5-11**] 7:19 PM\\n CHEST (PA & LAT)    ...\n",
              "8     7a-7p\\nneuro: prop gtt off this am. pt's RR 30...\n",
              "9     [**2167-8-2**] 5:08 PM\\n CHEST (PA & LAT)     ...\n",
              "10    [**2165-4-4**] 3:55 PM\\n CHEST (PA & LAT)     ...\n",
              "11    [**2162-3-4**] 2:27 PM\\n CHEST (PORTABLE AP)  ...\n",
              "12    [**2123-1-26**] 8:22 AM\\n UGI AIR W/ SBFT     ...\n",
              "13    Admit Note\\nPatient admitted from IR at 1800 t...\n",
              "14    [**2121-3-30**] 9:28 PM\\n CHEST (PA & LAT)    ...\n",
              "15    EXERCISE MIBI                                 ...\n",
              "16    [**2119-7-16**] 10:58 PM\\n CHEST (PA & LAT)   ...\n",
              "17    [**Last Name (LF) **],[**First Name3 (LF) **] ...\n",
              "18    [**2123-2-6**] 9:11 AM\\n MRI PELVIS W/O CONTRA...\n",
              "19    Respiratory Care: Pt electively intubated at c...\n",
              "20    NSG Admit/ progress note.\\n20 YO Black female ...\n",
              "21    TITLE: Critical Care\\n   Present for the key p...\n",
              "22    [**2141-3-27**] 6:31 PM\\n CHEST (PA & LAT)    ...\n",
              "23    Clinician:  Attending\\n   Critical Care\\n   Re...\n",
              "24    [**2142-4-20**] 7:49 AM\\n CHEST (PA & LAT)    ...\n",
              "25    [**2142-1-21**] 8:25 AM\\n CHEST (PORTABLE AP) ...\n",
              "26    Pharmacy Note\\n Antihypertensives\\n   Assessme...\n",
              "27    Clinician:  Attending\\n   BP coming down on la...\n",
              "28    [**2142-6-3**] 3:50 AM\\n CHEST (PORTABLE AP)  ...\n",
              "29    [**Last Name (LF) 5771**],[**First Name3 (LF) ...\n",
              "30    [**2142-6-1**] 8:27 PM\\n CHEST (PORTABLE AP)  ...\n",
              "31    The pt is a 24 y.o. F with ESRD on HD, SLE, ma...\n",
              "32    [**2141-10-27**] 6:59 PM\\n CHEST (PORTABLE AP)...\n",
              "33    [**2141-11-18**] 8:07 AM\\n CT ABDOMEN W/CONTRA...\n",
              "34    Obstructive sleep apnea (OSA)\\n   Assessment:\\...\n",
              "35    [**2142-3-19**] 7:02 AM\\n CT CHEST W/CONTRAST ...\n",
              "36    [**2142-3-8**] 12:34 PM\\n TUNNELLED CATH PLACE...\n",
              "37    [**2142-7-12**] 12:36 PM\\n CHEST (PORTABLE AP)...\n",
              "38    PATIENT/TEST INFORMATION:\\nIndication: Dyspnea...\n",
              "39    Events: MD writing orders- medications orders ...\n",
              "Name: TEXT, dtype: object"
            ]
          },
          "metadata": {},
          "execution_count": 2
        }
      ],
      "source": [
        "import pandas\n",
        "# model = Word2Vec(min_count=10, window=10, size=300, sample=6e-5, alpha=0.03, min_alpha=0.0007, negative=20, workers=2)\n",
        "cores = multiprocessing.cpu_count()\n",
        "# newsgroup = fetch_20newsgroups(remove=('headers', 'footers', 'quotes'))\n",
        "diagnoses_path = 'drive/MyDrive/DataSifter/Data/stay_length_4000_with_notes.csv'\n",
        "diagnoses = pandas.read_csv(diagnoses_path)['TEXT'][:40]\n",
        "diagnoses\n",
        "# len(diagnoses[0])\n",
        "# print(diagnoses[0])\n",
        "# sentences = MySentences(newsgroup.data) \n"
      ]
    },
    {
      "cell_type": "code",
      "execution_count": 3,
      "id": "807810eb",
      "metadata": {
        "id": "807810eb"
      },
      "outputs": [],
      "source": [
        "# print(sentences)\n",
        "model = W2V(diagnoses, cores)"
      ]
    },
    {
      "cell_type": "code",
      "source": [
        "# from google.colab import drive\n",
        "# drive.mount('/content/drive')"
      ],
      "metadata": {
        "id": "U-XNJzd3j02B"
      },
      "id": "U-XNJzd3j02B",
      "execution_count": 21,
      "outputs": []
    },
    {
      "cell_type": "code",
      "execution_count": 4,
      "id": "8f11a733",
      "metadata": {
        "id": "8f11a733"
      },
      "outputs": [],
      "source": [
        "model.train()\n",
        "# model['love']"
      ]
    },
    {
      "cell_type": "code",
      "source": [
        "# model.getVec('love')\n",
        "import numpy as np \n",
        "matrices = []\n",
        "count = 0\n",
        "for diagnosis in diagnoses:\n",
        "    matrix = []\n",
        "    for word in diagnosis.split():\n",
        "        count += 1\n",
        "        try:\n",
        "            vec = model.getVec(word)\n",
        "        except KeyError:\n",
        "            vec = np.zeros(300)\n",
        "            # print(type(vec))\n",
        "        matrix.append(vec)\n",
        "    matrix = np.array(matrix)\n",
        "    # print(type(matrix))\n",
        "    matrices.append(matrix)\n",
        "\n",
        "\n",
        "# matrices = [[model.getVec(word) for word in diagnosis.split()] for diagnosis in diagnoses]"
      ],
      "metadata": {
        "id": "JHEcucZYnrtD"
      },
      "id": "JHEcucZYnrtD",
      "execution_count": 5,
      "outputs": []
    },
    {
      "cell_type": "code",
      "execution_count": 6,
      "id": "2374849a",
      "metadata": {
        "id": "2374849a"
      },
      "outputs": [],
      "source": [
        "# w2v_model.save(\"newsmodel\")\n",
        "def padding(matrix, max_row):\n",
        "    rows, cols = matrix.shape[0], matrix.shape[1]\n",
        "    padding = np.zeros((max_row - rows, cols))\n",
        "    return np.concatenate((matrix, padding), axis = 0)\n",
        "max_row = max([matrix.shape[0] for matrix in matrices])\n",
        "matrices = [padding(matrix, max_row) for matrix in matrices]"
      ]
    },
    {
      "cell_type": "markdown",
      "source": [
        ""
      ],
      "metadata": {
        "id": "mjKa0qSkpI3y"
      },
      "id": "mjKa0qSkpI3y"
    },
    {
      "cell_type": "code",
      "execution_count": 7,
      "id": "671fbfdb",
      "metadata": {
        "id": "671fbfdb",
        "colab": {
          "base_uri": "https://localhost:8080/"
        },
        "outputId": "9cb2e04e-bd14-4021-bf66-674863cad654"
      },
      "outputs": [
        {
          "output_type": "execute_result",
          "data": {
            "text/plain": [
              "[array([[0., 0., 0., ..., 0., 0., 0.],\n",
              "        [0., 0., 0., ..., 0., 0., 0.],\n",
              "        [0., 0., 0., ..., 0., 0., 0.],\n",
              "        ...,\n",
              "        [0., 0., 0., ..., 0., 0., 0.],\n",
              "        [0., 0., 0., ..., 0., 0., 0.],\n",
              "        [0., 0., 0., ..., 0., 0., 0.]]), array([[0., 0., 0., ..., 0., 0., 0.],\n",
              "        [0., 0., 0., ..., 0., 0., 0.],\n",
              "        [0., 0., 0., ..., 0., 0., 0.],\n",
              "        ...,\n",
              "        [0., 0., 0., ..., 0., 0., 0.],\n",
              "        [0., 0., 0., ..., 0., 0., 0.],\n",
              "        [0., 0., 0., ..., 0., 0., 0.]]), array([[0., 0., 0., ..., 0., 0., 0.],\n",
              "        [0., 0., 0., ..., 0., 0., 0.],\n",
              "        [0., 0., 0., ..., 0., 0., 0.],\n",
              "        ...,\n",
              "        [0., 0., 0., ..., 0., 0., 0.],\n",
              "        [0., 0., 0., ..., 0., 0., 0.],\n",
              "        [0., 0., 0., ..., 0., 0., 0.]]), array([[0., 0., 0., ..., 0., 0., 0.],\n",
              "        [0., 0., 0., ..., 0., 0., 0.],\n",
              "        [0., 0., 0., ..., 0., 0., 0.],\n",
              "        ...,\n",
              "        [0., 0., 0., ..., 0., 0., 0.],\n",
              "        [0., 0., 0., ..., 0., 0., 0.],\n",
              "        [0., 0., 0., ..., 0., 0., 0.]]), array([[0., 0., 0., ..., 0., 0., 0.],\n",
              "        [0., 0., 0., ..., 0., 0., 0.],\n",
              "        [0., 0., 0., ..., 0., 0., 0.],\n",
              "        ...,\n",
              "        [0., 0., 0., ..., 0., 0., 0.],\n",
              "        [0., 0., 0., ..., 0., 0., 0.],\n",
              "        [0., 0., 0., ..., 0., 0., 0.]]), array([[0., 0., 0., ..., 0., 0., 0.],\n",
              "        [0., 0., 0., ..., 0., 0., 0.],\n",
              "        [0., 0., 0., ..., 0., 0., 0.],\n",
              "        ...,\n",
              "        [0., 0., 0., ..., 0., 0., 0.],\n",
              "        [0., 0., 0., ..., 0., 0., 0.],\n",
              "        [0., 0., 0., ..., 0., 0., 0.]]), array([[0., 0., 0., ..., 0., 0., 0.],\n",
              "        [0., 0., 0., ..., 0., 0., 0.],\n",
              "        [0., 0., 0., ..., 0., 0., 0.],\n",
              "        ...,\n",
              "        [0., 0., 0., ..., 0., 0., 0.],\n",
              "        [0., 0., 0., ..., 0., 0., 0.],\n",
              "        [0., 0., 0., ..., 0., 0., 0.]]), array([[0., 0., 0., ..., 0., 0., 0.],\n",
              "        [0., 0., 0., ..., 0., 0., 0.],\n",
              "        [0., 0., 0., ..., 0., 0., 0.],\n",
              "        ...,\n",
              "        [0., 0., 0., ..., 0., 0., 0.],\n",
              "        [0., 0., 0., ..., 0., 0., 0.],\n",
              "        [0., 0., 0., ..., 0., 0., 0.]]), array([[0., 0., 0., ..., 0., 0., 0.],\n",
              "        [0., 0., 0., ..., 0., 0., 0.],\n",
              "        [0., 0., 0., ..., 0., 0., 0.],\n",
              "        ...,\n",
              "        [0., 0., 0., ..., 0., 0., 0.],\n",
              "        [0., 0., 0., ..., 0., 0., 0.],\n",
              "        [0., 0., 0., ..., 0., 0., 0.]]), array([[0., 0., 0., ..., 0., 0., 0.],\n",
              "        [0., 0., 0., ..., 0., 0., 0.],\n",
              "        [0., 0., 0., ..., 0., 0., 0.],\n",
              "        ...,\n",
              "        [0., 0., 0., ..., 0., 0., 0.],\n",
              "        [0., 0., 0., ..., 0., 0., 0.],\n",
              "        [0., 0., 0., ..., 0., 0., 0.]]), array([[0., 0., 0., ..., 0., 0., 0.],\n",
              "        [0., 0., 0., ..., 0., 0., 0.],\n",
              "        [0., 0., 0., ..., 0., 0., 0.],\n",
              "        ...,\n",
              "        [0., 0., 0., ..., 0., 0., 0.],\n",
              "        [0., 0., 0., ..., 0., 0., 0.],\n",
              "        [0., 0., 0., ..., 0., 0., 0.]]), array([[0., 0., 0., ..., 0., 0., 0.],\n",
              "        [0., 0., 0., ..., 0., 0., 0.],\n",
              "        [0., 0., 0., ..., 0., 0., 0.],\n",
              "        ...,\n",
              "        [0., 0., 0., ..., 0., 0., 0.],\n",
              "        [0., 0., 0., ..., 0., 0., 0.],\n",
              "        [0., 0., 0., ..., 0., 0., 0.]]), array([[0., 0., 0., ..., 0., 0., 0.],\n",
              "        [0., 0., 0., ..., 0., 0., 0.],\n",
              "        [0., 0., 0., ..., 0., 0., 0.],\n",
              "        ...,\n",
              "        [0., 0., 0., ..., 0., 0., 0.],\n",
              "        [0., 0., 0., ..., 0., 0., 0.],\n",
              "        [0., 0., 0., ..., 0., 0., 0.]]), array([[0., 0., 0., ..., 0., 0., 0.],\n",
              "        [0., 0., 0., ..., 0., 0., 0.],\n",
              "        [0., 0., 0., ..., 0., 0., 0.],\n",
              "        ...,\n",
              "        [0., 0., 0., ..., 0., 0., 0.],\n",
              "        [0., 0., 0., ..., 0., 0., 0.],\n",
              "        [0., 0., 0., ..., 0., 0., 0.]]), array([[0., 0., 0., ..., 0., 0., 0.],\n",
              "        [0., 0., 0., ..., 0., 0., 0.],\n",
              "        [0., 0., 0., ..., 0., 0., 0.],\n",
              "        ...,\n",
              "        [0., 0., 0., ..., 0., 0., 0.],\n",
              "        [0., 0., 0., ..., 0., 0., 0.],\n",
              "        [0., 0., 0., ..., 0., 0., 0.]]), array([[0., 0., 0., ..., 0., 0., 0.],\n",
              "        [0., 0., 0., ..., 0., 0., 0.],\n",
              "        [0., 0., 0., ..., 0., 0., 0.],\n",
              "        ...,\n",
              "        [0., 0., 0., ..., 0., 0., 0.],\n",
              "        [0., 0., 0., ..., 0., 0., 0.],\n",
              "        [0., 0., 0., ..., 0., 0., 0.]]), array([[0., 0., 0., ..., 0., 0., 0.],\n",
              "        [0., 0., 0., ..., 0., 0., 0.],\n",
              "        [0., 0., 0., ..., 0., 0., 0.],\n",
              "        ...,\n",
              "        [0., 0., 0., ..., 0., 0., 0.],\n",
              "        [0., 0., 0., ..., 0., 0., 0.],\n",
              "        [0., 0., 0., ..., 0., 0., 0.]]), array([[0., 0., 0., ..., 0., 0., 0.],\n",
              "        [0., 0., 0., ..., 0., 0., 0.],\n",
              "        [0., 0., 0., ..., 0., 0., 0.],\n",
              "        ...,\n",
              "        [0., 0., 0., ..., 0., 0., 0.],\n",
              "        [0., 0., 0., ..., 0., 0., 0.],\n",
              "        [0., 0., 0., ..., 0., 0., 0.]]), array([[0., 0., 0., ..., 0., 0., 0.],\n",
              "        [0., 0., 0., ..., 0., 0., 0.],\n",
              "        [0., 0., 0., ..., 0., 0., 0.],\n",
              "        ...,\n",
              "        [0., 0., 0., ..., 0., 0., 0.],\n",
              "        [0., 0., 0., ..., 0., 0., 0.],\n",
              "        [0., 0., 0., ..., 0., 0., 0.]]), array([[0., 0., 0., ..., 0., 0., 0.],\n",
              "        [0., 0., 0., ..., 0., 0., 0.],\n",
              "        [0., 0., 0., ..., 0., 0., 0.],\n",
              "        ...,\n",
              "        [0., 0., 0., ..., 0., 0., 0.],\n",
              "        [0., 0., 0., ..., 0., 0., 0.],\n",
              "        [0., 0., 0., ..., 0., 0., 0.]]), array([[0., 0., 0., ..., 0., 0., 0.],\n",
              "        [0., 0., 0., ..., 0., 0., 0.],\n",
              "        [0., 0., 0., ..., 0., 0., 0.],\n",
              "        ...,\n",
              "        [0., 0., 0., ..., 0., 0., 0.],\n",
              "        [0., 0., 0., ..., 0., 0., 0.],\n",
              "        [0., 0., 0., ..., 0., 0., 0.]]), array([[0., 0., 0., ..., 0., 0., 0.],\n",
              "        [0., 0., 0., ..., 0., 0., 0.],\n",
              "        [0., 0., 0., ..., 0., 0., 0.],\n",
              "        ...,\n",
              "        [0., 0., 0., ..., 0., 0., 0.],\n",
              "        [0., 0., 0., ..., 0., 0., 0.],\n",
              "        [0., 0., 0., ..., 0., 0., 0.]]), array([[0., 0., 0., ..., 0., 0., 0.],\n",
              "        [0., 0., 0., ..., 0., 0., 0.],\n",
              "        [0., 0., 0., ..., 0., 0., 0.],\n",
              "        ...,\n",
              "        [0., 0., 0., ..., 0., 0., 0.],\n",
              "        [0., 0., 0., ..., 0., 0., 0.],\n",
              "        [0., 0., 0., ..., 0., 0., 0.]]), array([[0., 0., 0., ..., 0., 0., 0.],\n",
              "        [0., 0., 0., ..., 0., 0., 0.],\n",
              "        [0., 0., 0., ..., 0., 0., 0.],\n",
              "        ...,\n",
              "        [0., 0., 0., ..., 0., 0., 0.],\n",
              "        [0., 0., 0., ..., 0., 0., 0.],\n",
              "        [0., 0., 0., ..., 0., 0., 0.]]), array([[0., 0., 0., ..., 0., 0., 0.],\n",
              "        [0., 0., 0., ..., 0., 0., 0.],\n",
              "        [0., 0., 0., ..., 0., 0., 0.],\n",
              "        ...,\n",
              "        [0., 0., 0., ..., 0., 0., 0.],\n",
              "        [0., 0., 0., ..., 0., 0., 0.],\n",
              "        [0., 0., 0., ..., 0., 0., 0.]]), array([[0., 0., 0., ..., 0., 0., 0.],\n",
              "        [0., 0., 0., ..., 0., 0., 0.],\n",
              "        [0., 0., 0., ..., 0., 0., 0.],\n",
              "        ...,\n",
              "        [0., 0., 0., ..., 0., 0., 0.],\n",
              "        [0., 0., 0., ..., 0., 0., 0.],\n",
              "        [0., 0., 0., ..., 0., 0., 0.]]), array([[0., 0., 0., ..., 0., 0., 0.],\n",
              "        [0., 0., 0., ..., 0., 0., 0.],\n",
              "        [0., 0., 0., ..., 0., 0., 0.],\n",
              "        ...,\n",
              "        [0., 0., 0., ..., 0., 0., 0.],\n",
              "        [0., 0., 0., ..., 0., 0., 0.],\n",
              "        [0., 0., 0., ..., 0., 0., 0.]]), array([[0., 0., 0., ..., 0., 0., 0.],\n",
              "        [0., 0., 0., ..., 0., 0., 0.],\n",
              "        [0., 0., 0., ..., 0., 0., 0.],\n",
              "        ...,\n",
              "        [0., 0., 0., ..., 0., 0., 0.],\n",
              "        [0., 0., 0., ..., 0., 0., 0.],\n",
              "        [0., 0., 0., ..., 0., 0., 0.]]), array([[0., 0., 0., ..., 0., 0., 0.],\n",
              "        [0., 0., 0., ..., 0., 0., 0.],\n",
              "        [0., 0., 0., ..., 0., 0., 0.],\n",
              "        ...,\n",
              "        [0., 0., 0., ..., 0., 0., 0.],\n",
              "        [0., 0., 0., ..., 0., 0., 0.],\n",
              "        [0., 0., 0., ..., 0., 0., 0.]]), array([[0., 0., 0., ..., 0., 0., 0.],\n",
              "        [0., 0., 0., ..., 0., 0., 0.],\n",
              "        [0., 0., 0., ..., 0., 0., 0.],\n",
              "        ...,\n",
              "        [0., 0., 0., ..., 0., 0., 0.],\n",
              "        [0., 0., 0., ..., 0., 0., 0.],\n",
              "        [0., 0., 0., ..., 0., 0., 0.]]), array([[0., 0., 0., ..., 0., 0., 0.],\n",
              "        [0., 0., 0., ..., 0., 0., 0.],\n",
              "        [0., 0., 0., ..., 0., 0., 0.],\n",
              "        ...,\n",
              "        [0., 0., 0., ..., 0., 0., 0.],\n",
              "        [0., 0., 0., ..., 0., 0., 0.],\n",
              "        [0., 0., 0., ..., 0., 0., 0.]]), array([[0., 0., 0., ..., 0., 0., 0.],\n",
              "        [0., 0., 0., ..., 0., 0., 0.],\n",
              "        [0., 0., 0., ..., 0., 0., 0.],\n",
              "        ...,\n",
              "        [0., 0., 0., ..., 0., 0., 0.],\n",
              "        [0., 0., 0., ..., 0., 0., 0.],\n",
              "        [0., 0., 0., ..., 0., 0., 0.]]), array([[0., 0., 0., ..., 0., 0., 0.],\n",
              "        [0., 0., 0., ..., 0., 0., 0.],\n",
              "        [0., 0., 0., ..., 0., 0., 0.],\n",
              "        ...,\n",
              "        [0., 0., 0., ..., 0., 0., 0.],\n",
              "        [0., 0., 0., ..., 0., 0., 0.],\n",
              "        [0., 0., 0., ..., 0., 0., 0.]]), array([[0., 0., 0., ..., 0., 0., 0.],\n",
              "        [0., 0., 0., ..., 0., 0., 0.],\n",
              "        [0., 0., 0., ..., 0., 0., 0.],\n",
              "        ...,\n",
              "        [0., 0., 0., ..., 0., 0., 0.],\n",
              "        [0., 0., 0., ..., 0., 0., 0.],\n",
              "        [0., 0., 0., ..., 0., 0., 0.]]), array([[0., 0., 0., ..., 0., 0., 0.],\n",
              "        [0., 0., 0., ..., 0., 0., 0.],\n",
              "        [0., 0., 0., ..., 0., 0., 0.],\n",
              "        ...,\n",
              "        [0., 0., 0., ..., 0., 0., 0.],\n",
              "        [0., 0., 0., ..., 0., 0., 0.],\n",
              "        [0., 0., 0., ..., 0., 0., 0.]]), array([[0., 0., 0., ..., 0., 0., 0.],\n",
              "        [0., 0., 0., ..., 0., 0., 0.],\n",
              "        [0., 0., 0., ..., 0., 0., 0.],\n",
              "        ...,\n",
              "        [0., 0., 0., ..., 0., 0., 0.],\n",
              "        [0., 0., 0., ..., 0., 0., 0.],\n",
              "        [0., 0., 0., ..., 0., 0., 0.]]), array([[0., 0., 0., ..., 0., 0., 0.],\n",
              "        [0., 0., 0., ..., 0., 0., 0.],\n",
              "        [0., 0., 0., ..., 0., 0., 0.],\n",
              "        ...,\n",
              "        [0., 0., 0., ..., 0., 0., 0.],\n",
              "        [0., 0., 0., ..., 0., 0., 0.],\n",
              "        [0., 0., 0., ..., 0., 0., 0.]]), array([[0., 0., 0., ..., 0., 0., 0.],\n",
              "        [0., 0., 0., ..., 0., 0., 0.],\n",
              "        [0., 0., 0., ..., 0., 0., 0.],\n",
              "        ...,\n",
              "        [0., 0., 0., ..., 0., 0., 0.],\n",
              "        [0., 0., 0., ..., 0., 0., 0.],\n",
              "        [0., 0., 0., ..., 0., 0., 0.]]), array([[0., 0., 0., ..., 0., 0., 0.],\n",
              "        [0., 0., 0., ..., 0., 0., 0.],\n",
              "        [0., 0., 0., ..., 0., 0., 0.],\n",
              "        ...,\n",
              "        [0., 0., 0., ..., 0., 0., 0.],\n",
              "        [0., 0., 0., ..., 0., 0., 0.],\n",
              "        [0., 0., 0., ..., 0., 0., 0.]]), array([[0., 0., 0., ..., 0., 0., 0.],\n",
              "        [0., 0., 0., ..., 0., 0., 0.],\n",
              "        [0., 0., 0., ..., 0., 0., 0.],\n",
              "        ...,\n",
              "        [0., 0., 0., ..., 0., 0., 0.],\n",
              "        [0., 0., 0., ..., 0., 0., 0.],\n",
              "        [0., 0., 0., ..., 0., 0., 0.]])]"
            ]
          },
          "metadata": {},
          "execution_count": 7
        }
      ],
      "source": [
        "matrices"
      ]
    },
    {
      "cell_type": "code",
      "execution_count": null,
      "id": "937cb875",
      "metadata": {
        "id": "937cb875"
      },
      "outputs": [],
      "source": [
        "w2v_model.get_similar_word(keywords=[\"heart\", \"blood\", \"wrist\"], start_radius=0, end_radius=33)"
      ]
    },
    {
      "cell_type": "code",
      "execution_count": null,
      "id": "461d5957",
      "metadata": {
        "id": "461d5957"
      },
      "outputs": [],
      "source": [
        "w2v_model.find_word_idx([\"wife\"])"
      ]
    },
    {
      "cell_type": "code",
      "execution_count": null,
      "id": "95e32b77",
      "metadata": {
        "id": "95e32b77"
      },
      "outputs": [],
      "source": [
        "print(w2v_model.sentences[102])"
      ]
    },
    {
      "cell_type": "code",
      "execution_count": null,
      "id": "6baf2b2b",
      "metadata": {
        "id": "6baf2b2b",
        "outputId": "9fe1cd0e-5b1e-4d58-fb44-fe17bbe38e5f"
      },
      "outputs": [
        {
          "name": "stdout",
          "output_type": "stream",
          "text": [
            "/ hpcc01:rec.motorcycles / Stafford@Vax2.Winona.MSUS.Edu (John Stafford) / 11:06 am  Apr  1, 1993 /\n",
            " \n",
            "\n",
            "  It depreciates much faster, too.\n",
            "   \n",
            "====================================================\n",
            "John Stafford   Hockey State University @ Winona\n",
            "                    All standard disclaimers apply.\n",
            "----------\n",
            "The '84 GL1200A hit the traps at 13.34 according to Cycle magazine. Yeah,\n",
            "they depreciate faster than Harleys for the first couple of years then\n",
            "they bottom out. Got my '86 GL1200I w/ 2275 miles on the odometer for\n",
            "just under $5K in May of 1990 and would ask for $4500 now with almost\n",
            "16K miles onnit....that's about 50% of what a new GL1500I would cost.\n",
            "\n",
            "Think the '86 GL1200I originally sold for $6500 brand new, not sure. \n",
            "If that's the case then it depreciated 30.77% over 7 years or a mere\n",
            "$2000. Big Fat Hairy Deal! Based on what I know, Harleys tend to\n",
            "depreciate your monies far more than the initial depreciation of\n",
            "the bike itself when it comes to parts and service. All this about\n",
            "Harleys holding their value better doesn't always wash away the\n",
            "knocks on them...such as being much slower. ;-) \n",
            "\n",
            "According to Peter Egan in the just released Cycle World his FLHS is a\n",
            "real dog when he pillions his 120lb herself. All that money for a dog that\n",
            "doesn't defecate much. =:-]  \n",
            "--------------------------------------------------------------------------\n",
            "Graeme Harrison, Hewlett-Packard Co., Communications Components Division,\n",
            "350 W Trimble Rd, San Jose, CA 95131 (gharriso@hpcc01.corp.hp.com) DoD#649 \n"
          ]
        }
      ],
      "source": [
        "print(w2v_model.obfuscate(w2v_model.sentences[102], [\"wife\", \"Minnesota\"]))"
      ]
    },
    {
      "cell_type": "code",
      "execution_count": null,
      "id": "c924eb50",
      "metadata": {
        "id": "c924eb50"
      },
      "outputs": [],
      "source": [
        ""
      ]
    }
  ],
  "metadata": {
    "kernelspec": {
      "display_name": "Python 3 (ipykernel)",
      "language": "python",
      "name": "python3"
    },
    "language_info": {
      "codemirror_mode": {
        "name": "ipython",
        "version": 3
      },
      "file_extension": ".py",
      "mimetype": "text/x-python",
      "name": "python",
      "nbconvert_exporter": "python",
      "pygments_lexer": "ipython3",
      "version": "3.9.10"
    },
    "colab": {
      "name": "step7_w2v_matrix.ipynb",
      "provenance": [],
      "collapsed_sections": []
    },
    "accelerator": "GPU"
  },
  "nbformat": 4,
  "nbformat_minor": 5
}